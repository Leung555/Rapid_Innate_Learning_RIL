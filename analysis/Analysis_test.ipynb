{
 "cells": [
  {
   "cell_type": "code",
   "execution_count": 1,
   "metadata": {},
   "outputs": [],
   "source": [
    "import numpy as np\n",
    "import pandas as pd\n",
    "import matplotlib.pyplot as plt\n",
    "import seaborn as sns\n",
    "from scipy import stats\n",
    "sns.set_style(\"darkgrid\")"
   ]
  },
  {
   "cell_type": "code",
   "execution_count": 2,
   "metadata": {},
   "outputs": [
    {
     "data": {
      "text/html": [
       "<svg  width=\"550\" height=\"55\"><rect x=\"0\" y=\"0\" width=\"55\" height=\"55\" style=\"fill:#1f77b4;stroke-width:2;stroke:rgb(255,255,255)\"/><rect x=\"55\" y=\"0\" width=\"55\" height=\"55\" style=\"fill:#ff7f0e;stroke-width:2;stroke:rgb(255,255,255)\"/><rect x=\"110\" y=\"0\" width=\"55\" height=\"55\" style=\"fill:#2ca02c;stroke-width:2;stroke:rgb(255,255,255)\"/><rect x=\"165\" y=\"0\" width=\"55\" height=\"55\" style=\"fill:#d62728;stroke-width:2;stroke:rgb(255,255,255)\"/><rect x=\"220\" y=\"0\" width=\"55\" height=\"55\" style=\"fill:#9467bd;stroke-width:2;stroke:rgb(255,255,255)\"/><rect x=\"275\" y=\"0\" width=\"55\" height=\"55\" style=\"fill:#8c564b;stroke-width:2;stroke:rgb(255,255,255)\"/><rect x=\"330\" y=\"0\" width=\"55\" height=\"55\" style=\"fill:#e377c2;stroke-width:2;stroke:rgb(255,255,255)\"/><rect x=\"385\" y=\"0\" width=\"55\" height=\"55\" style=\"fill:#7f7f7f;stroke-width:2;stroke:rgb(255,255,255)\"/><rect x=\"440\" y=\"0\" width=\"55\" height=\"55\" style=\"fill:#bcbd22;stroke-width:2;stroke:rgb(255,255,255)\"/><rect x=\"495\" y=\"0\" width=\"55\" height=\"55\" style=\"fill:#17becf;stroke-width:2;stroke:rgb(255,255,255)\"/></svg>"
      ],
      "text/plain": [
       "[(0.12156862745098039, 0.4666666666666667, 0.7058823529411765),\n",
       " (1.0, 0.4980392156862745, 0.054901960784313725),\n",
       " (0.17254901960784313, 0.6274509803921569, 0.17254901960784313),\n",
       " (0.8392156862745098, 0.15294117647058825, 0.1568627450980392),\n",
       " (0.5803921568627451, 0.403921568627451, 0.7411764705882353),\n",
       " (0.5490196078431373, 0.33725490196078434, 0.29411764705882354),\n",
       " (0.8901960784313725, 0.4666666666666667, 0.7607843137254902),\n",
       " (0.4980392156862745, 0.4980392156862745, 0.4980392156862745),\n",
       " (0.7372549019607844, 0.7411764705882353, 0.13333333333333333),\n",
       " (0.09019607843137255, 0.7450980392156863, 0.8117647058823529)]"
      ]
     },
     "execution_count": 2,
     "metadata": {},
     "output_type": "execute_result"
    }
   ],
   "source": [
    "sns.color_palette()"
   ]
  },
  {
   "cell_type": "code",
   "execution_count": 3,
   "metadata": {},
   "outputs": [
    {
     "name": "stdout",
     "output_type": "stream",
     "text": [
      "Weights (3x3):\n",
      " [[-0.06044784 -0.0099095  -0.0641747 ]\n",
      " [ 0.02598433 -0.06378593 -0.09735985]\n",
      " [ 0.1837385   0.04142927 -0.0009404 ]]\n",
      "\n",
      "Bias (1x3):\n",
      " [0.39772717 0.47580605 0.56831516]\n",
      "\n",
      "Predicted output for a new input: [[0.49011609 0.4567864  0.4686532 ]]\n"
     ]
    }
   ],
   "source": [
    "import numpy as np\n",
    "\n",
    "# Generate some random data for input (X) and output (Y)\n",
    "# n = number of data points (rows)\n",
    "n = 100\n",
    "\n",
    "# 3 inputs (X1, X2, X3) and 3 outputs (Y1, Y2, Y3)\n",
    "X = np.random.rand(n, 3)  # Input data (n samples, 3 features)\n",
    "Y = np.random.rand(n, 3)  # Output data (n samples, 3 outputs)\n",
    "\n",
    "# Add a column of ones to X for the bias (to calculate bias term in linear regression)\n",
    "X_bias = np.hstack([X, np.ones((n, 1))])\n",
    "\n",
    "# Calculate the weights using the normal equation: W = (X.T * X)^(-1) * X.T * Y\n",
    "W = np.linalg.inv(X_bias.T @ X_bias) @ X_bias.T @ Y\n",
    "\n",
    "# Extract the weights and the bias\n",
    "weights = W[:-1, :]  # First 3 columns are the weights (3x3)\n",
    "bias = W[-1, :]      # Last row is the bias term (1x3)\n",
    "\n",
    "# Print the results\n",
    "print(\"Weights (3x3):\\n\", weights)\n",
    "print(\"\\nBias (1x3):\\n\", bias)\n",
    "\n",
    "# Now you can predict outputs for new inputs using: Y_pred = X_new @ weights + bias\n",
    "X_new = np.random.rand(1, 3)  # New input sample\n",
    "Y_pred = X_new @ weights + bias\n",
    "\n",
    "print(\"\\nPredicted output for a new input:\", Y_pred)\n"
   ]
  },
  {
   "cell_type": "code",
   "execution_count": 9,
   "metadata": {},
   "outputs": [
    {
     "name": "stdout",
     "output_type": "stream",
     "text": [
      "[[-1  2]\n",
      " [-3  2]]\n"
     ]
    },
    {
     "data": {
      "text/plain": [
       "array([[4, 4]])"
      ]
     },
     "execution_count": 9,
     "metadata": {},
     "output_type": "execute_result"
    }
   ],
   "source": [
    "a = np.array([[-1,2],\n",
    "              [-3,2]])\n",
    "print(a)\n",
    "np.sum(abs(a), axis=0, keepdims=True)"
   ]
  },
  {
   "cell_type": "code",
   "execution_count": 4,
   "metadata": {},
   "outputs": [
    {
     "name": "stdout",
     "output_type": "stream",
     "text": [
      "Estimated weight matrix W:\n",
      "[[ 2.00000000e+00 -1.00000000e+00  5.00000000e-01]\n",
      " [ 1.50000000e+00  2.00000000e+00 -5.00000000e-01]\n",
      " [ 1.00000000e+00 -1.45678929e-15  1.00000000e+00]]\n",
      "\n",
      "Estimated bias vector b:\n",
      "[1. 2. 3.]\n",
      "\n",
      "True weight matrix W_true:\n",
      "[[ 2.  -1.   0.5]\n",
      " [ 1.5  2.  -0.5]\n",
      " [ 1.   0.   1. ]]\n",
      "\n",
      "True bias vector b_true:\n",
      "[1 2 3]\n"
     ]
    }
   ],
   "source": [
    "# Generate synthetic data\n",
    "# X is the input matrix with shape (n_samples, 3), where n_samples = 100\n",
    "np.random.seed(42)\n",
    "n_samples = 100\n",
    "X = np.random.rand(n_samples, 3)\n",
    "\n",
    "# Define a true weight matrix W_true and bias b_true for generating outputs\n",
    "W_true = np.array([[2, -1, 0.5],\n",
    "                   [1.5, 2, -0.5],\n",
    "                   [1, 0, 1]])\n",
    "\n",
    "b_true = np.array([1, 2, 3])\n",
    "\n",
    "# Generate outputs Y using the linear relationship Y = XW_true + b_true\n",
    "Y = X @ W_true + b_true\n",
    "\n",
    "# Linear regression solution using normal equation\n",
    "# Adding a column of ones to X for the bias term\n",
    "X_b = np.hstack([X, np.ones((n_samples, 1))])\n",
    "\n",
    "# Solve for the weights and bias using normal equation: W = (X_b.T X_b)^(-1) X_b.T Y\n",
    "W_b = np.linalg.inv(X_b.T @ X_b) @ X_b.T @ Y\n",
    "\n",
    "# Extract the weight matrix W and bias vector b from the result\n",
    "W_est = W_b[:-1, :]  # First 3 rows are weights\n",
    "b_est = W_b[-1, :]   # Last row is the bias\n",
    "\n",
    "# Output the estimated weights and bias\n",
    "print(\"Estimated weight matrix W:\")\n",
    "print(W_est)\n",
    "\n",
    "print(\"\\nEstimated bias vector b:\")\n",
    "print(b_est)\n",
    "\n",
    "# Compare with the true weights and bias\n",
    "print(\"\\nTrue weight matrix W_true:\")\n",
    "print(W_true)\n",
    "\n",
    "print(\"\\nTrue bias vector b_true:\")\n",
    "print(b_true)\n"
   ]
  },
  {
   "cell_type": "code",
   "execution_count": 5,
   "metadata": {},
   "outputs": [
    {
     "data": {
      "text/plain": [
       "(100, 3)"
      ]
     },
     "execution_count": 5,
     "metadata": {},
     "output_type": "execute_result"
    }
   ],
   "source": [
    "X.shape"
   ]
  },
  {
   "cell_type": "code",
   "execution_count": 6,
   "metadata": {},
   "outputs": [
    {
     "data": {
      "image/png": "[encoded data removed]",
      "text/plain": [
       "<Figure size 640x480 with 1 Axes>"
      ]
     },
     "metadata": {},
     "output_type": "display_data"
    }
   ],
   "source": [
    "X_new = np.random.rand(100, 3)  # New input sample\n",
    "Y_pred = X_new @ W_est + b_est\n",
    "\n",
    "for i in range(3):\n",
    "    # plt.scatter(X[:,i], Y[:,i])\n",
    "    plt.scatter(X_new[:,i], Y_pred[:,i])"
   ]
  },
  {
   "cell_type": "code",
   "execution_count": 8,
   "metadata": {},
   "outputs": [
    {
     "data": {
      "text/plain": [
       "array([0.05168172, 0.53135463, 0.54063512])"
      ]
     },
     "execution_count": 8,
     "metadata": {},
     "output_type": "execute_result"
    }
   ],
   "source": [
    "X_new[0]"
   ]
  }
 ],
 "metadata": {
  "kernelspec": {
   "display_name": "Python 3",
   "language": "python",
   "name": "python3"
  },
  "language_info": {
   "codemirror_mode": {
    "name": "ipython",
    "version": 3
   },
   "file_extension": ".py",
   "mimetype": "text/x-python",
   "name": "python",
   "nbconvert_exporter": "python",
   "pygments_lexer": "ipython3",
   "version": "3.8.3"
  }
 },
 "nbformat": 4,
 "nbformat_minor": 2
}
